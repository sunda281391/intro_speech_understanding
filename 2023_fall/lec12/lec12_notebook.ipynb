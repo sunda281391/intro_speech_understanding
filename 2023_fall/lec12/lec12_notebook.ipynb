{
 "cells": [
  {
   "cell_type": "markdown",
   "id": "6a424b44",
   "metadata": {},
   "source": [
    "# Speech Understanding \n",
    "# Lecture 12: Text-to-Speech Synthesis"
   ]
  },
  {
   "cell_type": "markdown",
   "id": "b3983e7c",
   "metadata": {},
   "source": [
    "### Mark Hasegawa-Johnson, KCGI"
   ]
  },
  {
   "cell_type": "markdown",
   "id": "0b8ca0a6",
   "metadata": {},
   "source": [
    "1. <a href=\"#section1\">Installing gTTs, the Google speech synthesizer</a>\n",
    "1. <a href=\"#section2\">Using gTTs</a>\n",
    "1. <a href=\"#section3\">Use SpeechRecognizer to check the output</a>\n",
    "1. <a href=\"#section4\">Create an electronic parrot</a>\n",
    "1. <a href=\"#homework\">Homework</a>\n"
   ]
  },
  {
   "cell_type": "markdown",
   "id": "731a115a",
   "metadata": {},
   "source": [
    "<a id='section1'></a>"
   ]
  },
  {
   "cell_type": "markdown",
   "id": "59f8148f",
   "metadata": {},
   "source": [
    "## 1. Installing gTTs, the Google speech synthesizer"
   ]
  },
  {
   "cell_type": "markdown",
   "id": "500c2dc3",
   "metadata": {},
   "source": [
    "For speech synthesis, we will use Google's text-to-speech synthesis system (gTTs).  You need to be connected to the internet in order to use it. Documentation for gTTs is here: https://gtts.readthedocs.io/en/latest/ \n",
    "\n",
    "gTTs is installed like this (either in the window below, or in a terminal):"
   ]
  },
  {
   "cell_type": "code",
   "execution_count": 6,
   "id": "832e9140",
   "metadata": {},
   "outputs": [
    {
     "name": "stdout",
     "output_type": "stream",
     "text": [
      "Defaulting to user installation because normal site-packages is not writeable\n",
      "Collecting gTTs\n",
      "  Downloading gTTS-2.5.1-py3-none-any.whl (29 kB)\n",
      "Requirement already satisfied: click<8.2,>=7.1 in e:\\anaconda\\lib\\site-packages (from gTTs) (8.0.4)\n",
      "Requirement already satisfied: requests<3,>=2.27 in e:\\anaconda\\lib\\site-packages (from gTTs) (2.28.1)\n",
      "Requirement already satisfied: colorama in e:\\anaconda\\lib\\site-packages (from click<8.2,>=7.1->gTTs) (0.4.6)\n",
      "Requirement already satisfied: certifi>=2017.4.17 in e:\\anaconda\\lib\\site-packages (from requests<3,>=2.27->gTTs) (2023.11.17)\n",
      "Requirement already satisfied: urllib3<1.27,>=1.21.1 in e:\\anaconda\\lib\\site-packages (from requests<3,>=2.27->gTTs) (1.26.14)\n",
      "Requirement already satisfied: idna<4,>=2.5 in e:\\anaconda\\lib\\site-packages (from requests<3,>=2.27->gTTs) (3.4)\n",
      "Requirement already satisfied: charset-normalizer<3,>=2 in e:\\anaconda\\lib\\site-packages (from requests<3,>=2.27->gTTs) (2.0.4)\n",
      "Installing collected packages: gTTs\n",
      "Successfully installed gTTs-2.5.1\n"
     ]
    },
    {
     "name": "stderr",
     "output_type": "stream",
     "text": [
      "  WARNING: The script gtts-cli.exe is installed in 'C:\\Users\\XU HUI\\AppData\\Roaming\\Python\\Python310\\Scripts' which is not on PATH.\n",
      "  Consider adding this directory to PATH or, if you prefer to suppress this warning, use --no-warn-script-location.\n"
     ]
    }
   ],
   "source": [
    "!pip install gTTs"
   ]
  },
  {
   "cell_type": "markdown",
   "id": "ba21aaa8",
   "metadata": {},
   "source": [
    "<a id=\"section2\"></a>"
   ]
  },
  {
   "cell_type": "markdown",
   "id": "fa81c535",
   "metadata": {},
   "source": [
    "## 2. Using gTTs"
   ]
  },
  {
   "cell_type": "markdown",
   "id": "73d3c108",
   "metadata": {},
   "source": [
    "gTTs can't play the audio directly.  We need to create the audio output, save it to a file, and then play back the file."
   ]
  },
  {
   "cell_type": "code",
   "execution_count": 7,
   "id": "3f5b6544",
   "metadata": {},
   "outputs": [
    {
     "ename": "ModuleNotFoundError",
     "evalue": "No module named 'gtts'",
     "output_type": "error",
     "traceback": [
      "\u001b[1;31m---------------------------------------------------------------------------\u001b[0m",
      "\u001b[1;31mModuleNotFoundError\u001b[0m                       Traceback (most recent call last)",
      "Cell \u001b[1;32mIn[7], line 1\u001b[0m\n\u001b[1;32m----> 1\u001b[0m \u001b[38;5;28;01mimport\u001b[39;00m \u001b[38;5;21;01mgtts\u001b[39;00m\u001b[38;5;241m,\u001b[39m \u001b[38;5;21;01mlibrosa\u001b[39;00m\u001b[38;5;241m,\u001b[39m \u001b[38;5;21;01mIPython\u001b[39;00m\n\u001b[0;32m      3\u001b[0m desired_text \u001b[38;5;241m=\u001b[39m \u001b[38;5;124m\"\u001b[39m\u001b[38;5;124mこれは合成音声です\u001b[39m\u001b[38;5;124m\"\u001b[39m\n\u001b[0;32m      4\u001b[0m tts \u001b[38;5;241m=\u001b[39m gtts\u001b[38;5;241m.\u001b[39mgTTS(text\u001b[38;5;241m=\u001b[39mdesired_text, lang\u001b[38;5;241m=\u001b[39m\u001b[38;5;124m\"\u001b[39m\u001b[38;5;124mja\u001b[39m\u001b[38;5;124m\"\u001b[39m)\n",
      "\u001b[1;31mModuleNotFoundError\u001b[0m: No module named 'gtts'"
     ]
    }
   ],
   "source": [
    "import gtts, librosa, IPython\n",
    "\n",
    "desired_text = \"これは合成音声です\"\n",
    "tts = gtts.gTTS(text=desired_text, lang=\"ja\")\n",
    "tts.save(\"speech.mp3\")\n",
    "    \n",
    "speech_wave, speech_rate = librosa.load(\"speech.mp3\")\n",
    "IPython.display.Audio(data=speech_wave, rate=speech_rate)"
   ]
  },
  {
   "cell_type": "markdown",
   "id": "f3069f3e",
   "metadata": {},
   "source": [
    "The `wb` modifier in `open` is important.  It specifies that the file is\n",
    "* binary (`b`)\n",
    "* writable (`w`)"
   ]
  },
  {
   "cell_type": "markdown",
   "id": "7caed0ee",
   "metadata": {},
   "source": [
    "<a id=\"section3\"></a>"
   ]
  },
  {
   "cell_type": "markdown",
   "id": "dccd3978",
   "metadata": {},
   "source": [
    "## 3. Use SpeechRecognizer to check the output\n",
    "\n",
    "Often, in the real world, you need to generate synthetic speech prompts for a customer, but you don't have time to listen to all of them to make sure they're OK.\n",
    "\n",
    "When that happens, you can use `SpeechRecognizer` to check each of the files automatically.  If `SpeechRecognizer` detects any mistake, you can check manually to see if it's OK.\n",
    "\n",
    "First, we need to convert the file from `mp3` format to a format that `SpeechRecognizer` can handle.  `SpeechRecognizer` can handle wav and flac files.  We can use librosa to read in the mp3, then use soundfile to write it out, as shown [here](https://librosa.org/doc/main/ioformats.html#write-out-audio-files)."
   ]
  },
  {
   "cell_type": "code",
   "execution_count": null,
   "id": "0f904324",
   "metadata": {},
   "outputs": [],
   "source": [
    "!pip install soundfile"
   ]
  },
  {
   "cell_type": "code",
   "execution_count": null,
   "id": "c80e3280",
   "metadata": {},
   "outputs": [],
   "source": [
    "import librosa, soundfile\n",
    "data, samplerate = librosa.load('speech.mp3')\n",
    "soundfile.write('speech.wav',data,samplerate)"
   ]
  },
  {
   "cell_type": "markdown",
   "id": "4f5451bc",
   "metadata": {},
   "source": [
    "Now we can call `speech_recognition` to check the file content:"
   ]
  },
  {
   "cell_type": "code",
   "execution_count": null,
   "id": "fe4908de",
   "metadata": {},
   "outputs": [],
   "source": [
    "import speech_recognition\n",
    "\n",
    "r = speech_recognition.Recognizer()\n",
    "\n",
    "with speech_recognition.AudioFile(\"speech.wav\") as source:\n",
    "    audio = r.record(source)\n",
    "    text = r.recognize_google(audio, language=\"ja\")\n",
    "    print('The person in this audio file said \"%s\"'%(text))\n",
    "    if text == desired_text:\n",
    "        print('This matches the desired text')\n",
    "    else:\n",
    "        print('This does not match the desired text, which was \"%s\"'%(desired_text))"
   ]
  },
  {
   "cell_type": "markdown",
   "id": "1766cadd",
   "metadata": {},
   "source": [
    "<a id='section4'></a>"
   ]
  },
  {
   "cell_type": "markdown",
   "id": "2d67bb37",
   "metadata": {},
   "source": [
    "## 4. Create an electronic parrot"
   ]
  },
  {
   "cell_type": "markdown",
   "id": "b66a7b69",
   "metadata": {},
   "source": [
    "Now that we have both speech input and speech output, let's create our first speech app!\n",
    "\n",
    "This app will just be an electronic parrot.  The electronic parrot will listen to what you say, and try to repeat it."
   ]
  },
  {
   "cell_type": "code",
   "execution_count": 8,
   "id": "aa4333ab",
   "metadata": {},
   "outputs": [
    {
     "ename": "ModuleNotFoundError",
     "evalue": "No module named 'speech_recognition'",
     "output_type": "error",
     "traceback": [
      "\u001b[1;31m---------------------------------------------------------------------------\u001b[0m",
      "\u001b[1;31mModuleNotFoundError\u001b[0m                       Traceback (most recent call last)",
      "Cell \u001b[1;32mIn[8], line 1\u001b[0m\n\u001b[1;32m----> 1\u001b[0m \u001b[38;5;28;01mimport\u001b[39;00m \u001b[38;5;21;01mspeech_recognition\u001b[39;00m\u001b[38;5;241m,\u001b[39m \u001b[38;5;21;01mgtts\u001b[39;00m\u001b[38;5;241m,\u001b[39m \u001b[38;5;21;01mIPython\u001b[39;00m\u001b[38;5;241m,\u001b[39m \u001b[38;5;21;01mlibrosa\u001b[39;00m\n\u001b[0;32m      3\u001b[0m \u001b[38;5;28;01mdef\u001b[39;00m \u001b[38;5;21melectronic_parrot\u001b[39m():\n\u001b[0;32m      4\u001b[0m     \u001b[38;5;28mprint\u001b[39m(\u001b[38;5;124m\"\u001b[39m\u001b[38;5;124mHello!  I\u001b[39m\u001b[38;5;124m'\u001b[39m\u001b[38;5;124mm an electronic parrot 🦜.\u001b[39m\u001b[38;5;124m\"\u001b[39m)\n",
      "\u001b[1;31mModuleNotFoundError\u001b[0m: No module named 'speech_recognition'"
     ]
    }
   ],
   "source": [
    "import speech_recognition, gtts, IPython, librosa\n",
    "\n",
    "def electronic_parrot():\n",
    "    print(\"Hello!  I'm an electronic parrot 🦜.\")\n",
    "    print(\"Please say something, and I will try to repeat it.\")\n",
    "    \n",
    "    r = speech_recognition.Recognizer()\n",
    "\n",
    "    while True:\n",
    "        with speech_recognition.Microphone() as source:\n",
    "            print(\"Listening...\")\n",
    "            r.adjust_for_ambient_noise(source)\n",
    "            try:\n",
    "                audio = r.listen(source)\n",
    "                text = r.recognize_google(audio, language='en')\n",
    "            except speech_recognition.UnknownValueError:\n",
    "                print('I did not understand that, I will try again')\n",
    "                continue\n",
    "            except sr.RequestError:\n",
    "                print('Sorry, I could not reach the internet, I will try again')\n",
    "                continue\n",
    "            except sr.WaitTimeoutError:\n",
    "                continue\n",
    "            break\n",
    "            \n",
    "    print('I heard you say \"%s\", and now I will try to repeat it'%(text))\n",
    "    gtts.gTTS(text='You said \"%s\"'%(text), lang=\"en\").save(\"parrot.mp3\")\n",
    "    speech_wave, speech_rate = librosa.load(\"parrot.mp3\")\n",
    "    return IPython.display.Audio(data=speech_wave, rate=speech_rate)\n"
   ]
  },
  {
   "cell_type": "code",
   "execution_count": 9,
   "id": "ef394d2a",
   "metadata": {},
   "outputs": [
    {
     "ename": "NameError",
     "evalue": "name 'electronic_parrot' is not defined",
     "output_type": "error",
     "traceback": [
      "\u001b[1;31m---------------------------------------------------------------------------\u001b[0m",
      "\u001b[1;31mNameError\u001b[0m                                 Traceback (most recent call last)",
      "Cell \u001b[1;32mIn[9], line 1\u001b[0m\n\u001b[1;32m----> 1\u001b[0m \u001b[43melectronic_parrot\u001b[49m()\n",
      "\u001b[1;31mNameError\u001b[0m: name 'electronic_parrot' is not defined"
     ]
    }
   ],
   "source": [
    "electronic_parrot()"
   ]
  },
  {
   "cell_type": "markdown",
   "id": "564707ab",
   "metadata": {},
   "source": [
    "<a id='homework'></a>"
   ]
  },
  {
   "cell_type": "markdown",
   "id": "4e6b32d4",
   "metadata": {},
   "source": [
    "## Homework"
   ]
  },
  {
   "cell_type": "markdown",
   "id": "7a9eeaa5",
   "metadata": {},
   "source": [
    "Edit the text file called `homework12.py`.\n",
    "\n",
    "This file should `def` a function called `synthesize`, with a signature as shown here:"
   ]
  },
  {
   "cell_type": "code",
   "execution_count": 10,
   "id": "b8c8138f",
   "metadata": {},
   "outputs": [
    {
     "ename": "ModuleNotFoundError",
     "evalue": "No module named 'gtts'",
     "output_type": "error",
     "traceback": [
      "\u001b[1;31m---------------------------------------------------------------------------\u001b[0m",
      "\u001b[1;31mModuleNotFoundError\u001b[0m                       Traceback (most recent call last)",
      "Cell \u001b[1;32mIn[10], line 1\u001b[0m\n\u001b[1;32m----> 1\u001b[0m \u001b[38;5;28;01mimport\u001b[39;00m \u001b[38;5;21;01mhomework12\u001b[39;00m\u001b[38;5;241m,\u001b[39m \u001b[38;5;21;01mimportlib\u001b[39;00m\n\u001b[0;32m      2\u001b[0m importlib\u001b[38;5;241m.\u001b[39mreload(homework12)\n\u001b[0;32m      3\u001b[0m help(homework12\u001b[38;5;241m.\u001b[39msynthesize)\n",
      "File \u001b[1;32m~\\Documents\\GitHub\\intro_speech_understanding\\2023_fall\\lec12\\homework12.py:1\u001b[0m\n\u001b[1;32m----> 1\u001b[0m \u001b[38;5;28;01mimport\u001b[39;00m \u001b[38;5;21;01mgtts\u001b[39;00m\n\u001b[0;32m      3\u001b[0m \u001b[38;5;28;01mdef\u001b[39;00m \u001b[38;5;21msynthesize\u001b[39m(text, lang, filename):\n\u001b[0;32m      4\u001b[0m     \u001b[38;5;124;03m'''\u001b[39;00m\n\u001b[0;32m      5\u001b[0m \u001b[38;5;124;03m    Use gtts.gTTs(text=text, lang=lang) to synthesize speech, then write it to filename.\u001b[39;00m\n\u001b[0;32m      6\u001b[0m \u001b[38;5;124;03m    \u001b[39;00m\n\u001b[1;32m   (...)\u001b[0m\n\u001b[0;32m     10\u001b[0m \u001b[38;5;124;03m    filename (str) - the filename in which it should be saved\u001b[39;00m\n\u001b[0;32m     11\u001b[0m \u001b[38;5;124;03m    '''\u001b[39;00m\n",
      "\u001b[1;31mModuleNotFoundError\u001b[0m: No module named 'gtts'"
     ]
    }
   ],
   "source": [
    "import homework12, importlib\n",
    "importlib.reload(homework12)\n",
    "help(homework12.synthesize)"
   ]
  },
  {
   "cell_type": "markdown",
   "id": "1d9fb7cc",
   "metadata": {},
   "source": [
    "Test whether your code works by running the following block:"
   ]
  },
  {
   "cell_type": "code",
   "execution_count": 11,
   "id": "0ab6ecae",
   "metadata": {},
   "outputs": [
    {
     "ename": "ModuleNotFoundError",
     "evalue": "No module named 'gtts'",
     "output_type": "error",
     "traceback": [
      "\u001b[1;31m---------------------------------------------------------------------------\u001b[0m",
      "\u001b[1;31mModuleNotFoundError\u001b[0m                       Traceback (most recent call last)",
      "Cell \u001b[1;32mIn[11], line 1\u001b[0m\n\u001b[1;32m----> 1\u001b[0m \u001b[38;5;28;01mimport\u001b[39;00m \u001b[38;5;21;01mhomework12\u001b[39;00m\u001b[38;5;241m,\u001b[39m \u001b[38;5;21;01mlibrosa\u001b[39;00m\u001b[38;5;241m,\u001b[39m \u001b[38;5;21;01mIPython\u001b[39;00m\u001b[38;5;241m,\u001b[39m \u001b[38;5;21;01mimportlib\u001b[39;00m\n\u001b[0;32m      2\u001b[0m importlib\u001b[38;5;241m.\u001b[39mreload(homework12)\n\u001b[0;32m      4\u001b[0m homework12\u001b[38;5;241m.\u001b[39msynthesize(\u001b[38;5;124m\"\u001b[39m\u001b[38;5;124mThis is speech synthesis!\u001b[39m\u001b[38;5;124m\"\u001b[39m,\u001b[38;5;124m\"\u001b[39m\u001b[38;5;124men\u001b[39m\u001b[38;5;124m\"\u001b[39m,\u001b[38;5;124m\"\u001b[39m\u001b[38;5;124menglish.mp3\u001b[39m\u001b[38;5;124m\"\u001b[39m)\n",
      "File \u001b[1;32m~\\Documents\\GitHub\\intro_speech_understanding\\2023_fall\\lec12\\homework12.py:1\u001b[0m\n\u001b[1;32m----> 1\u001b[0m \u001b[38;5;28;01mimport\u001b[39;00m \u001b[38;5;21;01mgtts\u001b[39;00m\n\u001b[0;32m      3\u001b[0m \u001b[38;5;28;01mdef\u001b[39;00m \u001b[38;5;21msynthesize\u001b[39m(text, lang, filename):\n\u001b[0;32m      4\u001b[0m     \u001b[38;5;124;03m'''\u001b[39;00m\n\u001b[0;32m      5\u001b[0m \u001b[38;5;124;03m    Use gtts.gTTs(text=text, lang=lang) to synthesize speech, then write it to filename.\u001b[39;00m\n\u001b[0;32m      6\u001b[0m \u001b[38;5;124;03m    \u001b[39;00m\n\u001b[1;32m   (...)\u001b[0m\n\u001b[0;32m     10\u001b[0m \u001b[38;5;124;03m    filename (str) - the filename in which it should be saved\u001b[39;00m\n\u001b[0;32m     11\u001b[0m \u001b[38;5;124;03m    '''\u001b[39;00m\n",
      "\u001b[1;31mModuleNotFoundError\u001b[0m: No module named 'gtts'"
     ]
    }
   ],
   "source": [
    "import homework12, librosa, IPython, importlib\n",
    "importlib.reload(homework12)\n",
    "\n",
    "homework12.synthesize(\"This is speech synthesis!\",\"en\",\"english.mp3\")\n",
    "y, sr = librosa.load(\"english.mp3\")\n",
    "IPython.display.Audio(data=y, rate=sr)"
   ]
  },
  {
   "cell_type": "markdown",
   "id": "c769003c",
   "metadata": {},
   "source": [
    "### Receiving your grade\n",
    "\n",
    "In order to receive a grade for your homework, you need to:\n",
    "\n",
    "1. Run the following code block on your machine.  The result may list some errors, and then in the very last line, it will show a score.  That score (between 0% and 100%) is the grade you have earned so far.  If you want to earn a higher grade, please continue editing `homework3.py`, and then run this code block again.\n",
    "1. When you are happy with your score (e.g., when it reaches 100%), choose `File` $\\Rightarrow$ `Save and Checkpoint`.  Then use `GitHub Desktop` to commit and push your changes.\n",
    "1. Make sure that the 100% shows on your github repo on github.com.  If it doesn't, you will not receive credit."
   ]
  },
  {
   "cell_type": "code",
   "execution_count": 1,
   "id": "73ad19aa",
   "metadata": {},
   "outputs": [
    {
     "name": "stderr",
     "output_type": "stream",
     "text": [
      "....\n",
      "----------------------------------------------------------------------\n",
      "Ran 4 tests in 0.885s\n",
      "\n",
      "OK\n",
      "."
     ]
    },
    {
     "name": "stdout",
     "output_type": "stream",
     "text": [
      "4 successes out of 4 tests run\n",
      "Score: 100%\n"
     ]
    },
    {
     "name": "stderr",
     "output_type": "stream",
     "text": [
      "...\n",
      "----------------------------------------------------------------------\n",
      "Ran 4 tests in 0.752s\n",
      "\n",
      "OK\n"
     ]
    },
    {
     "name": "stdout",
     "output_type": "stream",
     "text": [
      "4 successes out of 4 tests run\n",
      "Score: 100%\n"
     ]
    },
    {
     "data": {
      "text/plain": [
       "<module 'grade' from 'C:\\\\Users\\\\XU HUI\\\\Documents\\\\GitHub\\\\intro_speech_understanding\\\\2023_fall\\\\lec12\\\\grade.py'>"
      ]
     },
     "execution_count": 1,
     "metadata": {},
     "output_type": "execute_result"
    }
   ],
   "source": [
    "import importlib, grade\n",
    "importlib.reload(grade)"
   ]
  },
  {
   "cell_type": "code",
   "execution_count": null,
   "id": "4d5a4cfc",
   "metadata": {},
   "outputs": [],
   "source": []
  },
  {
   "cell_type": "code",
   "execution_count": null,
   "id": "74f181f3",
   "metadata": {},
   "outputs": [],
   "source": []
  },
  {
   "cell_type": "code",
   "execution_count": null,
   "id": "5d853cc1",
   "metadata": {},
   "outputs": [],
   "source": []
  },
  {
   "cell_type": "code",
   "execution_count": null,
   "id": "4029ae5c",
   "metadata": {},
   "outputs": [],
   "source": []
  }
 ],
 "metadata": {
  "kernelspec": {
   "display_name": "Python 3 (ipykernel)",
   "language": "python",
   "name": "python3"
  },
  "language_info": {
   "codemirror_mode": {
    "name": "ipython",
    "version": 3
   },
   "file_extension": ".py",
   "mimetype": "text/x-python",
   "name": "python",
   "nbconvert_exporter": "python",
   "pygments_lexer": "ipython3",
   "version": "3.10.9"
  }
 },
 "nbformat": 4,
 "nbformat_minor": 5
}
